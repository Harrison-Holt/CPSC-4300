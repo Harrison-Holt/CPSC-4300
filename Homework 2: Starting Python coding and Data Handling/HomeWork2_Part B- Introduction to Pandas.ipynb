{
 "cells": [
  {
   "cell_type": "markdown",
   "metadata": {},
   "source": [
    "<div class='heading'>\n",
    "    <div style='float:left;'><h1>CPSC 4300/6300: Applied Data Science</h1></div>\n",
    "    <img style=\"float: right; padding-right: 10px; width: 65px\" src=\"https://raw.githubusercontent.com/bsethwalker/clemson-cs4300/main/images/clemson_paw.png\"> </div><br>\n",
    "\n",
    "\n",
    "## Week 2: Introduction to Pandas\n",
    "\n",
    "**Clemson University**<br>\n",
    "**Spring 2024**<br>\n",
    "**Instructor(s):** Nina Hubig <br>\n",
    "**TA(s):** Samaneh Zamanifard, Boqiang Li\n",
    "\n",
    "\n",
    "---"
   ]
  },
  {
   "cell_type": "code",
   "execution_count": 12,
   "metadata": {},
   "outputs": [
    {
     "data": {
      "text/html": [
       "<style>\n",
       "blockquote { background: #AEDE94; }\n",
       "\n",
       "div.heading {\n",
       "margin-bottom: 25px;\n",
       "height: 75px;\n",
       "}\n",
       "\n",
       "h1 { \n",
       "    padding-top: 25px;\n",
       "    padding-bottom: 25px;\n",
       "    text-align: left; \n",
       "    padding-left: 10px;\n",
       "    color: black;\n",
       "}\n",
       "\n",
       "h2 { \n",
       "    padding-top: 10px;\n",
       "    padding-bottom: 10px;\n",
       "    text-align: left; \n",
       "    padding-left: 5px;\n",
       "    background-color: #EEEEEE; \n",
       "    color: black;\n",
       "}\n",
       "\n",
       "div.exercise {\n",
       "    \n",
       "    background: rgba(245, 102, 0, .75);\n",
       "    border-color: #E9967A;\n",
       "    border-left: 5px solid #522D80; \n",
       "    padding: 0.5em;\n",
       "}\n",
       "\n",
       "div.exercise-r {\n",
       "    background-color: #fce8e8;\n",
       "    border-color: #E9967A; \t\n",
       "    border-left: 5px solid #800080; \n",
       "    padding: 0.5em;\n",
       "}\n",
       "\n",
       "span.sub-q {\n",
       "    font-weight: bold;\n",
       "}\n",
       "div.theme {\n",
       "    background-color: #DDDDDD;\n",
       "    border-color: #E9967A; \t\n",
       "    border-left: 5px solid #800080; \n",
       "    padding: 0.5em;\n",
       "    font-size: 18pt;\n",
       "}\n",
       "div.gc { \n",
       "    background-color: #AEDE94;\n",
       "    border-color: #E9967A; \t \n",
       "    border-left: 5px solid #800080; \n",
       "    padding: 0.5em;\n",
       "    font-size: 12pt;\n",
       "}\n",
       "p.q1 { \n",
       "    padding-top: 5px;\n",
       "    padding-bottom: 5px;\n",
       "    text-align: left; \n",
       "    padding-left: 5px;\n",
       "    background-color: #EEEEEE; \n",
       "    color: black;\n",
       "}\n",
       "header {\n",
       "   padding-top: 35px;\n",
       "    padding-bottom: 35px;\n",
       "    text-align: left; \n",
       "    padding-left: 10px;\n",
       "    background-color: #DDDDDD; \n",
       "    color: black;\n",
       "}\n",
       "</style>"
      ],
      "text/plain": [
       "<IPython.core.display.HTML object>"
      ]
     },
     "execution_count": 12,
     "metadata": {},
     "output_type": "execute_result"
    }
   ],
   "source": [
    "\"\"\" RUN THIS CELL TO GET THE RIGHT FORMATTING \"\"\"\n",
    "import requests\n",
    "from IPython.core.display import HTML\n",
    "css_file = 'https://raw.githubusercontent.com/bsethwalker/clemson-cs4300/main/css/cpsc6300.css'\n",
    "styles = requests.get(css_file).text\n",
    "HTML(styles)"
   ]
  },
  {
   "cell_type": "markdown",
   "metadata": {},
   "source": [
    "# Table of Contents \n",
    "<ol start=\"0\">\n",
    "<li> Learning Goals </li>\n",
    "<li> Loading and Cleaning with Pandas</li>\n",
    "<li> Parsing and Completing the Dataframe  </li>\n",
    "<li> Grouping </li>\n",
    "</ol>"
   ]
  },
  {
   "cell_type": "markdown",
   "metadata": {},
   "source": [
    "## Learning Goals\n",
    "\n",
    "About 6,000 odd \"best books\" were fetched and parsed from [Goodreads](https://www.goodreads.com). The \"bestness\" of these books came from a proprietary formula used by Goodreads and published as a list on their web site.\n",
    "\n",
    "We parsed the page for each book and saved data from all these pages in a tabular format as a CSV file. In this lab we'll clean and further parse the data.  We'll then do some exploratory data analysis to answer questions about these best books and popular genres.  \n",
    "\n",
    "\n",
    "By the end of this lab, you should be able to:\n",
    "\n",
    "- Load and systematically address missing values, encoded as `NaN` values in our data set, for example, by removing observations associated with these values.\n",
    "- Parse columns in the dataframe to create new dataframe columns.\n",
    "- Use groupby to aggregate data on a particular feature column, such as author."
   ]
  },
  {
   "cell_type": "markdown",
   "metadata": {},
   "source": [
    "### Basic EDA workflow\n",
    "\n",
    "The basic workflow is as follows:\n",
    "\n",
    "1. **Build** a DataFrame from the data (ideally, put all data in this object)\n",
    "2. **Clean** the DataFrame. It should have the following properties:\n",
    "    - Each row describes a single object\n",
    "    - Each column describes a property of that object\n",
    "    - Columns are numeric whenever appropriate\n",
    "    - Columns contain atomic properties that cannot be further decomposed\n",
    "3. Explore **global properties**. Use histograms, scatter plots, and aggregation functions to summarize the data.\n",
    "4. Explore **group properties**. Use groupby and small multiples to compare subsets of the data.\n",
    "\n",
    "This process transforms your data into a format which is easier to work with, gives you a basic overview of the data's properties, and likely generates several questions for you to followup in subsequent analysis."
   ]
  },
  {
   "cell_type": "markdown",
   "metadata": {},
   "source": [
    "## Part 1: Loading and Cleaning with Pandas \n",
    "Read in the `goodreads.csv` file, examine the data, and do any necessary data cleaning. \n",
    "\n",
    "Here is a description of the columns (in order) present in this csv file:\n",
    "\n",
    "```\n",
    "rating: the average rating on a 1-5 scale achieved by the book\n",
    "review_count: the number of Goodreads users who reviewed this book\n",
    "isbn: the ISBN code for the book\n",
    "booktype: an internal Goodreads identifier for the book\n",
    "author_url: the Goodreads (relative) URL for the author of the book\n",
    "year: the year the book was published\n",
    "genre_urls: a string with '|' separated relative URLS of Goodreads genre pages\n",
    "dir: a directory identifier internal to the scraping code\n",
    "rating_count: the number of ratings for this book (this is different from the number of reviews)\n",
    "name: the name of the book\n",
    "```\n",
    "\n",
    "Let us see what issues we find with the data and resolve them.  \n",
    "\n",
    "\n",
    "\n",
    "----"
   ]
  },
  {
   "cell_type": "markdown",
   "metadata": {},
   "source": [
    "\n",
    "\n",
    "\n",
    "After loading appropriate libraries\n"
   ]
  },
  {
   "cell_type": "code",
   "execution_count": 8,
   "metadata": {},
   "outputs": [],
   "source": [
    "%matplotlib inline\n",
    "import numpy as np\n",
    "import matplotlib.pyplot as plt\n",
    "import pandas as pd\n",
    "import seaborn as sns\n",
    "pd.set_option('display.width', 500)\n",
    "pd.set_option('display.max_columns', 100)"
   ]
  },
  {
   "cell_type": "markdown",
   "metadata": {},
   "source": [
    "### Cleaning: Reading in the data\n",
    "We read in and clean the data from `goodreads.csv`."
   ]
  },
  {
   "cell_type": "code",
   "execution_count": 9,
   "metadata": {},
   "outputs": [
    {
     "name": "stdout",
     "output_type": "stream",
     "text": [
      "   4.40   136455  0439023483  good_reads:book https://www.goodreads.com/author/show/153394.Suzanne_Collins    2008 /genres/young-adult|/genres/science-fiction|/genres/dystopia|/genres/fantasy|/genres/science-fiction|/genres/romance|/genres/adventure|/genres/book-club|/genres/young-adult|/genres/teen|/genres/apocalyptic|/genres/post-apocalyptic|/genres/action                dir01/2767052-the-hunger-games.html    2958974            The Hunger Games (The Hunger Games, #1)\n",
      "0  4.41  16648.0  0439358078  good_reads:book  https://www.goodreads.com/author/show/1077326....            2003.0  /genres/fantasy|/genres/young-adult|/genres/fi...                                                                                                                                                                                                     dir01/2.Harry_Potter_and_the_Order_of_the_Phoe...  1284478.0  Harry Potter and the Order of the Phoenix (Har...\n",
      "1  3.56  85746.0  0316015849  good_reads:book  https://www.goodreads.com/author/show/941441.S...            2005.0  /genres/young-adult|/genres/fantasy|/genres/ro...                                                                                                                                                                                                                             dir01/41865.Twilight.html  2579564.0                            Twilight (Twilight, #1)\n",
      "2  4.23  47906.0  0061120081  good_reads:book  https://www.goodreads.com/author/show/1825.Har...            1960.0  /genres/classics|/genres/fiction|/genres/histo...                                                                                                                                                                                                                 dir01/2657.To_Kill_a_Mockingbird.html  2078123.0                              To Kill a Mockingbird\n",
      "3  4.23  34772.0  0679783261  good_reads:book  https://www.goodreads.com/author/show/1265.Jan...            1813.0  /genres/classics|/genres/fiction|/genres/roman...                                                                                                                                                                                                                   dir01/1885.Pride_and_Prejudice.html  1388992.0                                Pride and Prejudice\n",
      "4  4.25  12363.0  0446675539  good_reads:book  https://www.goodreads.com/author/show/11081.Ma...            1936.0  /genres/classics|/genres/historical-fiction|/g...                                                                                                                                                                                                                   dir01/18405.Gone_with_the_Wind.html   645470.0                                 Gone with the Wind\n"
     ]
    }
   ],
   "source": [
    "#Read the data into a dataframe\n",
    "df = pd.read_csv(\"goodreads.csv\", encoding='utf-8')\n",
    "\n",
    "#Examine the first few rows of the dataframe\n",
    "# Examine the first few rows of the dataframe\n",
    "print(df.head())\n"
   ]
  },
  {
   "cell_type": "markdown",
   "metadata": {},
   "source": [
    "Oh dear. That does not quite seem to be right. We are missing the column names. We need to add these in! But what are they?\n",
    "\n",
    "Here is a list of them in order:\n",
    "\n",
    "`[\"rating\", 'review_count', 'isbn', 'booktype','author_url', 'year', 'genre_urls', 'dir','rating_count', 'name']`\n",
    "\n",
    "<div class=\"exercise\"><b>Exercise 1</b></div>\n",
    "Use these to load the dataframe properly! And then \"head\" the dataframe... (you will need to look at the read_csv docs)\n"
   ]
  },
  {
   "cell_type": "code",
   "execution_count": 11,
   "metadata": {},
   "outputs": [
    {
     "name": "stdout",
     "output_type": "stream",
     "text": [
      "   rating  review_count        isbn         booktype                                         author_url    year                                         genre_urls                                                dir  rating_count                                               name\n",
      "0    4.40      136455.0  0439023483  good_reads:book  https://www.goodreads.com/author/show/153394.S...  2008.0  /genres/young-adult|/genres/science-fiction|/g...                dir01/2767052-the-hunger-games.html     2958974.0            The Hunger Games (The Hunger Games, #1)\n",
      "1    4.41       16648.0  0439358078  good_reads:book  https://www.goodreads.com/author/show/1077326....  2003.0  /genres/fantasy|/genres/young-adult|/genres/fi...  dir01/2.Harry_Potter_and_the_Order_of_the_Phoe...     1284478.0  Harry Potter and the Order of the Phoenix (Har...\n",
      "2    3.56       85746.0  0316015849  good_reads:book  https://www.goodreads.com/author/show/941441.S...  2005.0  /genres/young-adult|/genres/fantasy|/genres/ro...                          dir01/41865.Twilight.html     2579564.0                            Twilight (Twilight, #1)\n",
      "3    4.23       47906.0  0061120081  good_reads:book  https://www.goodreads.com/author/show/1825.Har...  1960.0  /genres/classics|/genres/fiction|/genres/histo...              dir01/2657.To_Kill_a_Mockingbird.html     2078123.0                              To Kill a Mockingbird\n",
      "4    4.23       34772.0  0679783261  good_reads:book  https://www.goodreads.com/author/show/1265.Jan...  1813.0  /genres/classics|/genres/fiction|/genres/roman...                dir01/1885.Pride_and_Prejudice.html     1388992.0                                Pride and Prejudice\n"
     ]
    }
   ],
   "source": [
    "import pandas as pd\n",
    "\n",
    "# Load the data from the CSV file\n",
    "columns = [\"rating\", \"review_count\", \"isbn\", \"booktype\", \"author_url\", \"year\", \"genre_urls\", \"dir\", \"rating_count\", \"name\"]\n",
    "df = pd.read_csv(\"goodreads.csv\", encoding='utf-8', names=columns)\n",
    "\n",
    "# Check the first few rows of the dataframe\n",
    "print(df.head())\n"
   ]
  },
  {
   "cell_type": "markdown",
   "metadata": {},
   "source": [
    "### Cleaning: Examing the dataframe - quick checks\n",
    "\n",
    "We should examine the dataframe to get a overall sense of the content. \n",
    "\n",
    "<div class=\"exercise\"><b>Exercise 2</b></div>\n",
    "Lets check the types of the columns. What do you find?"
   ]
  },
  {
   "cell_type": "code",
   "execution_count": 14,
   "metadata": {},
   "outputs": [
    {
     "name": "stdout",
     "output_type": "stream",
     "text": [
      "rating          float64\n",
      "review_count    float64\n",
      "isbn             object\n",
      "booktype         object\n",
      "author_url       object\n",
      "year            float64\n",
      "genre_urls       object\n",
      "dir              object\n",
      "rating_count    float64\n",
      "name             object\n",
      "dtype: object\n"
     ]
    }
   ],
   "source": [
    "# Check the data types of the columns\n",
    "print(df.dtypes)\n"
   ]
  },
  {
   "cell_type": "markdown",
   "metadata": {},
   "source": [
    "*your answer here*\n",
    "\n",
    "Notice that `review_count` and `rating_counts` are objects instead of ints, and the `year` is a float!"
   ]
  },
  {
   "cell_type": "markdown",
   "metadata": {},
   "source": [
    "There are a couple more quick sanity checks to perform on the dataframe. "
   ]
  },
  {
   "cell_type": "code",
   "execution_count": 13,
   "metadata": {},
   "outputs": [
    {
     "name": "stdout",
     "output_type": "stream",
     "text": [
      "(6000, 10)\n"
     ]
    },
    {
     "data": {
      "text/plain": [
       "Index(['rating', 'review_count', 'isbn', 'booktype', 'author_url', 'year', 'genre_urls', 'dir', 'rating_count', 'name'], dtype='object')"
      ]
     },
     "execution_count": 13,
     "metadata": {},
     "output_type": "execute_result"
    }
   ],
   "source": [
    "print(df.shape)\n",
    "df.columns"
   ]
  },
  {
   "cell_type": "markdown",
   "metadata": {},
   "source": [
    "### Cleaning: Examining the dataframe - a deeper look"
   ]
  },
  {
   "cell_type": "markdown",
   "metadata": {},
   "source": [
    "Beyond performing checking some quick general properties of the data frame and looking at the first $n$ rows, we can dig a bit deeper into the values being stored. If you haven't already, check to see if there are any missing values in the data frame.\n",
    "\n",
    "Let's see for a column which seemed OK to us."
   ]
  },
  {
   "cell_type": "code",
   "execution_count": 17,
   "metadata": {},
   "outputs": [
    {
     "name": "stdout",
     "output_type": "stream",
     "text": [
      "2\n",
      "2\n",
      "477\n",
      "2\n",
      "2\n",
      "7\n",
      "62\n",
      "0\n",
      "2\n",
      "2\n"
     ]
    }
   ],
   "source": [
    "#Get a sense of how many missing values there are in the dataframe.\n",
    "print(np.sum([df.rating.isnull()]))\n",
    "print(np.sum([df.review_count.isnull()]))\n",
    "print(np.sum([df.isbn.isnull()]))\n",
    "print(np.sum([df.booktype.isnull()]))\n",
    "print(np.sum([df.author_url.isnull()]))\n",
    "print(np.sum([df.year.isnull()]))\n",
    "print(np.sum([df.genre_urls.isnull()]))\n",
    "print(np.sum([df.dir.isnull()]))\n",
    "print(np.sum([df.rating_count.isnull()]))\n",
    "print(np.sum([df.name.isnull()]))"
   ]
  },
  {
   "cell_type": "code",
   "execution_count": 15,
   "metadata": {},
   "outputs": [
    {
     "data": {
      "text/html": [
       "<div>\n",
       "<style scoped>\n",
       "    .dataframe tbody tr th:only-of-type {\n",
       "        vertical-align: middle;\n",
       "    }\n",
       "\n",
       "    .dataframe tbody tr th {\n",
       "        vertical-align: top;\n",
       "    }\n",
       "\n",
       "    .dataframe thead th {\n",
       "        text-align: right;\n",
       "    }\n",
       "</style>\n",
       "<table border=\"1\" class=\"dataframe\">\n",
       "  <thead>\n",
       "    <tr style=\"text-align: right;\">\n",
       "      <th></th>\n",
       "      <th>rating</th>\n",
       "      <th>review_count</th>\n",
       "      <th>isbn</th>\n",
       "      <th>booktype</th>\n",
       "      <th>author_url</th>\n",
       "      <th>year</th>\n",
       "      <th>genre_urls</th>\n",
       "      <th>dir</th>\n",
       "      <th>rating_count</th>\n",
       "      <th>name</th>\n",
       "    </tr>\n",
       "  </thead>\n",
       "  <tbody>\n",
       "    <tr>\n",
       "      <th>3643</th>\n",
       "      <td>NaN</td>\n",
       "      <td>NaN</td>\n",
       "      <td>NaN</td>\n",
       "      <td>NaN</td>\n",
       "      <td>NaN</td>\n",
       "      <td>NaN</td>\n",
       "      <td>NaN</td>\n",
       "      <td>dir37/9658936-harry-potter.html</td>\n",
       "      <td>NaN</td>\n",
       "      <td>NaN</td>\n",
       "    </tr>\n",
       "    <tr>\n",
       "      <th>5282</th>\n",
       "      <td>NaN</td>\n",
       "      <td>NaN</td>\n",
       "      <td>NaN</td>\n",
       "      <td>NaN</td>\n",
       "      <td>NaN</td>\n",
       "      <td>NaN</td>\n",
       "      <td>NaN</td>\n",
       "      <td>dir53/113138.The_Winner.html</td>\n",
       "      <td>NaN</td>\n",
       "      <td>NaN</td>\n",
       "    </tr>\n",
       "  </tbody>\n",
       "</table>\n",
       "</div>"
      ],
      "text/plain": [
       "      rating  review_count isbn booktype author_url  year genre_urls                              dir  rating_count name\n",
       "3643     NaN           NaN  NaN      NaN        NaN   NaN        NaN  dir37/9658936-harry-potter.html           NaN  NaN\n",
       "5282     NaN           NaN  NaN      NaN        NaN   NaN        NaN     dir53/113138.The_Winner.html           NaN  NaN"
      ]
     },
     "execution_count": 15,
     "metadata": {},
     "output_type": "execute_result"
    }
   ],
   "source": [
    "#Try to locate where the missing values occur\n",
    "df[df.rating.isnull()]"
   ]
  },
  {
   "cell_type": "markdown",
   "metadata": {},
   "source": [
    "How does `pandas` or `numpy` handle missing values when we try to compute with data sets that include them?"
   ]
  },
  {
   "cell_type": "markdown",
   "metadata": {},
   "source": [
    "We'll now check if any of the other suspicious columns have missing values.  Let's look at `year` and `review_count` first.\n",
    "\n",
    "One thing you can do is to try and convert to the type you expect the column to be. If something goes wrong, it likely means your data are bad."
   ]
  },
  {
   "cell_type": "markdown",
   "metadata": {},
   "source": [
    "Lets test for missing data:"
   ]
  },
  {
   "cell_type": "code",
   "execution_count": 16,
   "metadata": {},
   "outputs": [
    {
     "data": {
      "text/plain": [
       "(6000, 10)"
      ]
     },
     "execution_count": 16,
     "metadata": {},
     "output_type": "execute_result"
    }
   ],
   "source": [
    "df[df.year.isnull()]\n",
    "\n",
    "df.year.isnull()\n",
    "df.shape"
   ]
  },
  {
   "cell_type": "markdown",
   "metadata": {},
   "source": [
    "### Cleaning: Dealing with Missing Values\n",
    "How should we interpret 'missing' or 'invalid' values in the data (hint: look at where these values occur)? One approach is to simply exclude them from the dataframe. Is this appropriate for all 'missing' or 'invalid' values? "
   ]
  },
  {
   "cell_type": "code",
   "execution_count": 24,
   "metadata": {},
   "outputs": [],
   "source": [
    "#Treat the missing or invalid values in your dataframe\n",
    "####### \n",
    "\n",
    "df = df[df.year.notnull()]"
   ]
  },
  {
   "cell_type": "markdown",
   "metadata": {},
   "source": [
    "Ok so we have done some cleaning. What do things look like now? Notice the float has not yet changed."
   ]
  },
  {
   "cell_type": "code",
   "execution_count": 22,
   "metadata": {},
   "outputs": [
    {
     "data": {
      "text/plain": [
       "rating          float64\n",
       "review_count    float64\n",
       "isbn             object\n",
       "booktype         object\n",
       "author_url       object\n",
       "year            float64\n",
       "genre_urls       object\n",
       "dir              object\n",
       "rating_count    float64\n",
       "name             object\n",
       "dtype: object"
      ]
     },
     "execution_count": 22,
     "metadata": {},
     "output_type": "execute_result"
    }
   ],
   "source": [
    "df.dtypes"
   ]
  },
  {
   "cell_type": "code",
   "execution_count": 25,
   "metadata": {},
   "outputs": [
    {
     "name": "stdout",
     "output_type": "stream",
     "text": [
      "0\n"
     ]
    },
    {
     "data": {
      "text/plain": [
       "(5993, 10)"
      ]
     },
     "execution_count": 25,
     "metadata": {},
     "output_type": "execute_result"
    }
   ],
   "source": [
    "print(np.sum(df.year.isnull()))\n",
    "df.shape # We removed seven rows"
   ]
  },
  {
   "cell_type": "markdown",
   "metadata": {},
   "source": [
    "<div class=\"exercise\"><b>Exercise 3</b></div>\n",
    "\n",
    "Ok so lets fix those types. Convert them to ints. If the type conversion fails, we now know we have further problems."
   ]
  },
  {
   "cell_type": "code",
   "execution_count": 31,
   "metadata": {},
   "outputs": [
    {
     "name": "stdout",
     "output_type": "stream",
     "text": [
      "Conversion to integers successful for 'review_count' and 'rating_count'\n",
      "Conversion to integer successful for 'year'\n"
     ]
    }
   ],
   "source": [
    "# Convert 'review_count' and 'rating_count' to integers\n",
    "try:\n",
    "    df['review_count'] = df['review_count'].astype(int)\n",
    "    df['rating_count'] = df['rating_count'].astype(int)\n",
    "    print(\"Conversion to integers successful for 'review_count' and 'rating_count'\")\n",
    "except ValueError as e:\n",
    "    print(\"Conversion failed: \", e)\n",
    "\n",
    "# Convert 'year' to integer\n",
    "try:\n",
    "    df['year'] = df['year'].astype(int)\n",
    "    print(\"Conversion to integer successful for 'year'\")\n",
    "except ValueError as e:\n",
    "    print(\"Conversion failed: \", e)\n"
   ]
  },
  {
   "cell_type": "markdown",
   "metadata": {},
   "source": [
    "Once you do this, we seem to be good on these columns (no errors in conversion). Lets look:"
   ]
  },
  {
   "cell_type": "code",
   "execution_count": 27,
   "metadata": {},
   "outputs": [
    {
     "data": {
      "text/plain": [
       "rating          float64\n",
       "review_count      int32\n",
       "isbn             object\n",
       "booktype         object\n",
       "author_url       object\n",
       "year              int32\n",
       "genre_urls       object\n",
       "dir              object\n",
       "rating_count      int32\n",
       "name             object\n",
       "dtype: object"
      ]
     },
     "execution_count": 27,
     "metadata": {},
     "output_type": "execute_result"
    }
   ],
   "source": [
    "df.dtypes"
   ]
  },
  {
   "cell_type": "markdown",
   "metadata": {},
   "source": [
    "Sweet!"
   ]
  },
  {
   "cell_type": "markdown",
   "metadata": {},
   "source": [
    "Some of the other colums that should be strings have NaN."
   ]
  },
  {
   "cell_type": "code",
   "execution_count": 32,
   "metadata": {},
   "outputs": [],
   "source": [
    "df.loc[df.genre_urls.isnull(), 'genre_urls']=\"\"\n",
    "df.loc[df.isbn.isnull(), 'isbn']=\"\""
   ]
  },
  {
   "cell_type": "markdown",
   "metadata": {},
   "source": [
    "##  Part 2: Parsing and Completing the Data Frame \n",
    "\n",
    "We will parse the `author` column from the author_url and `genres` column from the genre_urls. Keep the `genres` column as a string separated by '|'.\n",
    "\n",
    "We will use panda's `map` to assign new columns to the dataframe.  "
   ]
  },
  {
   "cell_type": "markdown",
   "metadata": {},
   "source": [
    "Examine an example `author_url` and reason about which sequence of string operations must be performed in order to isolate the author's name."
   ]
  },
  {
   "cell_type": "code",
   "execution_count": 33,
   "metadata": {},
   "outputs": [
    {
     "data": {
      "text/plain": [
       "'https://www.goodreads.com/author/show/153394.Suzanne_Collins'"
      ]
     },
     "execution_count": 33,
     "metadata": {},
     "output_type": "execute_result"
    }
   ],
   "source": [
    "#Get the first author_url\n",
    "test_string = df.author_url[0]\n",
    "test_string"
   ]
  },
  {
   "cell_type": "code",
   "execution_count": 34,
   "metadata": {},
   "outputs": [
    {
     "data": {
      "text/plain": [
       "'Suzanne_Collins'"
      ]
     },
     "execution_count": 34,
     "metadata": {},
     "output_type": "execute_result"
    }
   ],
   "source": [
    "#Test out some string operations to isolate the author name\n",
    "\n",
    "test_string.split('/')[-1].split('.')[1:][0]"
   ]
  },
  {
   "cell_type": "markdown",
   "metadata": {},
   "source": [
    "<div class=\"exercise\"><b>Exercise 4</b></div>\n",
    "\n",
    "Lets wrap the above code into a function which we will then use"
   ]
  },
  {
   "cell_type": "code",
   "execution_count": 38,
   "metadata": {},
   "outputs": [],
   "source": [
    "# Write a function that accepts an author url and returns the author's name based on your experimentation above\n",
    "def get_author(url):\n",
    "    # your code here\n",
    "    name =  url.split('/')[-1].replace('_', ' ').replace('-', ' ').replace('.', ' ')\n",
    "    \n",
    "    return name"
   ]
  },
  {
   "cell_type": "code",
   "execution_count": 39,
   "metadata": {},
   "outputs": [
    {
     "data": {
      "text/plain": [
       "0    153394 Suzanne Collins\n",
       "1       1077326 J K Rowling\n",
       "2    941441 Stephenie Meyer\n",
       "3           1825 Harper Lee\n",
       "4          1265 Jane Austen\n",
       "Name: author, dtype: object"
      ]
     },
     "execution_count": 39,
     "metadata": {},
     "output_type": "execute_result"
    }
   ],
   "source": [
    "#Apply the get_author function to the 'author_url' column using '.map' \n",
    "#and add a new column 'author' to store the names\n",
    "df['author'] = df.author_url.map(get_author)\n",
    "df.author[0:5]"
   ]
  },
  {
   "cell_type": "markdown",
   "metadata": {},
   "source": [
    "\n",
    "Now parse out the genres from `genre_url`.  \n",
    "\n",
    "This is a little more complicated because there be more than one genre.\n"
   ]
  },
  {
   "cell_type": "code",
   "execution_count": null,
   "metadata": {},
   "outputs": [],
   "source": [
    "\n",
    "df.genre_urls.head()"
   ]
  },
  {
   "cell_type": "code",
   "execution_count": 40,
   "metadata": {},
   "outputs": [
    {
     "name": "stdout",
     "output_type": "stream",
     "text": [
      "young-adult\n",
      "science-fiction\n",
      "dystopia\n",
      "fantasy\n",
      "science-fiction\n",
      "romance\n",
      "adventure\n",
      "book-club\n",
      "young-adult\n",
      "teen\n",
      "apocalyptic\n",
      "post-apocalyptic\n",
      "action\n"
     ]
    }
   ],
   "source": [
    "#Examine some examples of genre_urls\n",
    "\n",
    "#Test out some string operations to isolate the genre name\n",
    "test_genre_string=df.genre_urls[0]\n",
    "genres=test_genre_string.strip().split('|')\n",
    "for e in genres:\n",
    "    print(e.split('/')[-1])\n",
    "    \"|\".join(genres)"
   ]
  },
  {
   "cell_type": "markdown",
   "metadata": {},
   "source": [
    "<div class=\"exercise\"><b>Exercise 5</b></div>\n",
    "\n",
    "Write a function that accepts a genre url and returns the genre name based on your experimentation above\n",
    "\n"
   ]
  },
  {
   "cell_type": "code",
   "execution_count": 42,
   "metadata": {},
   "outputs": [
    {
     "name": "stdout",
     "output_type": "stream",
     "text": [
      "science fiction, fantasy, dystopia\n"
     ]
    }
   ],
   "source": [
    "def split_and_join_genres(url):\n",
    " # Split the URL by '/' to separate different parts\n",
    "    parts = url.split('/')\n",
    "\n",
    "    # Filter out empty strings and irrelevant parts\n",
    "    genre_parts = [part for part in parts if part and part not in ['genres', 'goodreads']]\n",
    "\n",
    "    # Join the filtered parts to form the genre name\n",
    "    genre_name = ', '.join(genre_parts).replace('-', ' ').replace('_', ' ')\n",
    "\n",
    "    return genre_name\n",
    "\n",
    "# Example usage\n",
    "genre_url_example = '/genres/science-fiction/fantasy/dystopia'\n",
    "genre_name = split_and_join_genres(genre_url_example)\n",
    "print(genre_name)\n"
   ]
  },
  {
   "cell_type": "markdown",
   "metadata": {},
   "source": [
    "Test your function"
   ]
  },
  {
   "cell_type": "code",
   "execution_count": 43,
   "metadata": {},
   "outputs": [
    {
     "data": {
      "text/plain": [
       "'young adult|, science fiction'"
      ]
     },
     "execution_count": 43,
     "metadata": {},
     "output_type": "execute_result"
    }
   ],
   "source": [
    "split_and_join_genres(\"/genres/young-adult|/genres/science-fiction\")"
   ]
  },
  {
   "cell_type": "code",
   "execution_count": 44,
   "metadata": {},
   "outputs": [
    {
     "data": {
      "text/plain": [
       "''"
      ]
     },
     "execution_count": 44,
     "metadata": {},
     "output_type": "execute_result"
    }
   ],
   "source": [
    "split_and_join_genres(\"\")"
   ]
  },
  {
   "cell_type": "markdown",
   "metadata": {},
   "source": [
    "This question is primarily aimed at graduate students, serving as a critical part of their assignment. However, undergraduate students are encouraged to take this on as an optional bonus challenge.\n",
    "<div class=\"exercise\"><b>Exercise 6</b></div>\n",
    "Use map again to create a new \"genres\" column"
   ]
  },
  {
   "cell_type": "code",
   "execution_count": 47,
   "metadata": {},
   "outputs": [],
   "source": [
    "\n",
    "# Ensure the split_and_join_genres function is defined as earlier\n",
    "def split_and_join_genres(url):\n",
    "    # Your previously defined code here\n",
    "\n",
    "# Use map to apply the function to each entry in the \"genre_urls\" column\n",
    "    df['genres'] = df['genre_urls'].map(split_and_join_genres)\n",
    "\n",
    "# Display the first few rows of the dataframe to check the new column\n",
    "    df.head()"
   ]
  },
  {
   "cell_type": "markdown",
   "metadata": {},
   "source": [
    "Finally, let's pick an author at random so we can see the results of the transformations.  Scroll to see the `author` and `genre` columns that we added to the dataframe."
   ]
  },
  {
   "cell_type": "code",
   "execution_count": 48,
   "metadata": {},
   "outputs": [
    {
     "data": {
      "text/html": [
       "<div>\n",
       "<style scoped>\n",
       "    .dataframe tbody tr th:only-of-type {\n",
       "        vertical-align: middle;\n",
       "    }\n",
       "\n",
       "    .dataframe tbody tr th {\n",
       "        vertical-align: top;\n",
       "    }\n",
       "\n",
       "    .dataframe thead th {\n",
       "        text-align: right;\n",
       "    }\n",
       "</style>\n",
       "<table border=\"1\" class=\"dataframe\">\n",
       "  <thead>\n",
       "    <tr style=\"text-align: right;\">\n",
       "      <th></th>\n",
       "      <th>rating</th>\n",
       "      <th>review_count</th>\n",
       "      <th>isbn</th>\n",
       "      <th>booktype</th>\n",
       "      <th>author_url</th>\n",
       "      <th>year</th>\n",
       "      <th>genre_urls</th>\n",
       "      <th>dir</th>\n",
       "      <th>rating_count</th>\n",
       "      <th>name</th>\n",
       "      <th>author</th>\n",
       "    </tr>\n",
       "  </thead>\n",
       "  <tbody>\n",
       "  </tbody>\n",
       "</table>\n",
       "</div>"
      ],
      "text/plain": [
       "Empty DataFrame\n",
       "Columns: [rating, review_count, isbn, booktype, author_url, year, genre_urls, dir, rating_count, name, author]\n",
       "Index: []"
      ]
     },
     "execution_count": 48,
     "metadata": {},
     "output_type": "execute_result"
    }
   ],
   "source": [
    "df[df.author == \"Marguerite_Yourcenar\"]"
   ]
  },
  {
   "cell_type": "markdown",
   "metadata": {},
   "source": [
    "Let us delete the `genre_urls` column."
   ]
  },
  {
   "cell_type": "code",
   "execution_count": null,
   "metadata": {},
   "outputs": [],
   "source": [
    "del df['genre_urls']"
   ]
  },
  {
   "cell_type": "markdown",
   "metadata": {},
   "source": [
    "And then save the dataframe out!"
   ]
  },
  {
   "cell_type": "code",
   "execution_count": 52,
   "metadata": {},
   "outputs": [
    {
     "ename": "OSError",
     "evalue": "Cannot save file into a non-existent directory: 'data'",
     "output_type": "error",
     "traceback": [
      "\u001b[1;31m---------------------------------------------------------------------------\u001b[0m",
      "\u001b[1;31mOSError\u001b[0m                                   Traceback (most recent call last)",
      "Cell \u001b[1;32mIn[52], line 1\u001b[0m\n\u001b[1;32m----> 1\u001b[0m df\u001b[38;5;241m.\u001b[39mto_csv(\u001b[38;5;124m\"\u001b[39m\u001b[38;5;124mdata/cleaned-goodreads.csv\u001b[39m\u001b[38;5;124m\"\u001b[39m, index\u001b[38;5;241m=\u001b[39m\u001b[38;5;28;01mFalse\u001b[39;00m, header\u001b[38;5;241m=\u001b[39m\u001b[38;5;28;01mTrue\u001b[39;00m)\n",
      "File \u001b[1;32m~\\anaconda3\\Lib\\site-packages\\pandas\\core\\generic.py:3772\u001b[0m, in \u001b[0;36mNDFrame.to_csv\u001b[1;34m(self, path_or_buf, sep, na_rep, float_format, columns, header, index, index_label, mode, encoding, compression, quoting, quotechar, lineterminator, chunksize, date_format, doublequote, escapechar, decimal, errors, storage_options)\u001b[0m\n\u001b[0;32m   3761\u001b[0m df \u001b[38;5;241m=\u001b[39m \u001b[38;5;28mself\u001b[39m \u001b[38;5;28;01mif\u001b[39;00m \u001b[38;5;28misinstance\u001b[39m(\u001b[38;5;28mself\u001b[39m, ABCDataFrame) \u001b[38;5;28;01melse\u001b[39;00m \u001b[38;5;28mself\u001b[39m\u001b[38;5;241m.\u001b[39mto_frame()\n\u001b[0;32m   3763\u001b[0m formatter \u001b[38;5;241m=\u001b[39m DataFrameFormatter(\n\u001b[0;32m   3764\u001b[0m     frame\u001b[38;5;241m=\u001b[39mdf,\n\u001b[0;32m   3765\u001b[0m     header\u001b[38;5;241m=\u001b[39mheader,\n\u001b[1;32m   (...)\u001b[0m\n\u001b[0;32m   3769\u001b[0m     decimal\u001b[38;5;241m=\u001b[39mdecimal,\n\u001b[0;32m   3770\u001b[0m )\n\u001b[1;32m-> 3772\u001b[0m \u001b[38;5;28;01mreturn\u001b[39;00m DataFrameRenderer(formatter)\u001b[38;5;241m.\u001b[39mto_csv(\n\u001b[0;32m   3773\u001b[0m     path_or_buf,\n\u001b[0;32m   3774\u001b[0m     lineterminator\u001b[38;5;241m=\u001b[39mlineterminator,\n\u001b[0;32m   3775\u001b[0m     sep\u001b[38;5;241m=\u001b[39msep,\n\u001b[0;32m   3776\u001b[0m     encoding\u001b[38;5;241m=\u001b[39mencoding,\n\u001b[0;32m   3777\u001b[0m     errors\u001b[38;5;241m=\u001b[39merrors,\n\u001b[0;32m   3778\u001b[0m     compression\u001b[38;5;241m=\u001b[39mcompression,\n\u001b[0;32m   3779\u001b[0m     quoting\u001b[38;5;241m=\u001b[39mquoting,\n\u001b[0;32m   3780\u001b[0m     columns\u001b[38;5;241m=\u001b[39mcolumns,\n\u001b[0;32m   3781\u001b[0m     index_label\u001b[38;5;241m=\u001b[39mindex_label,\n\u001b[0;32m   3782\u001b[0m     mode\u001b[38;5;241m=\u001b[39mmode,\n\u001b[0;32m   3783\u001b[0m     chunksize\u001b[38;5;241m=\u001b[39mchunksize,\n\u001b[0;32m   3784\u001b[0m     quotechar\u001b[38;5;241m=\u001b[39mquotechar,\n\u001b[0;32m   3785\u001b[0m     date_format\u001b[38;5;241m=\u001b[39mdate_format,\n\u001b[0;32m   3786\u001b[0m     doublequote\u001b[38;5;241m=\u001b[39mdoublequote,\n\u001b[0;32m   3787\u001b[0m     escapechar\u001b[38;5;241m=\u001b[39mescapechar,\n\u001b[0;32m   3788\u001b[0m     storage_options\u001b[38;5;241m=\u001b[39mstorage_options,\n\u001b[0;32m   3789\u001b[0m )\n",
      "File \u001b[1;32m~\\anaconda3\\Lib\\site-packages\\pandas\\io\\formats\\format.py:1186\u001b[0m, in \u001b[0;36mDataFrameRenderer.to_csv\u001b[1;34m(self, path_or_buf, encoding, sep, columns, index_label, mode, compression, quoting, quotechar, lineterminator, chunksize, date_format, doublequote, escapechar, errors, storage_options)\u001b[0m\n\u001b[0;32m   1165\u001b[0m     created_buffer \u001b[38;5;241m=\u001b[39m \u001b[38;5;28;01mFalse\u001b[39;00m\n\u001b[0;32m   1167\u001b[0m csv_formatter \u001b[38;5;241m=\u001b[39m CSVFormatter(\n\u001b[0;32m   1168\u001b[0m     path_or_buf\u001b[38;5;241m=\u001b[39mpath_or_buf,\n\u001b[0;32m   1169\u001b[0m     lineterminator\u001b[38;5;241m=\u001b[39mlineterminator,\n\u001b[1;32m   (...)\u001b[0m\n\u001b[0;32m   1184\u001b[0m     formatter\u001b[38;5;241m=\u001b[39m\u001b[38;5;28mself\u001b[39m\u001b[38;5;241m.\u001b[39mfmt,\n\u001b[0;32m   1185\u001b[0m )\n\u001b[1;32m-> 1186\u001b[0m csv_formatter\u001b[38;5;241m.\u001b[39msave()\n\u001b[0;32m   1188\u001b[0m \u001b[38;5;28;01mif\u001b[39;00m created_buffer:\n\u001b[0;32m   1189\u001b[0m     \u001b[38;5;28;01massert\u001b[39;00m \u001b[38;5;28misinstance\u001b[39m(path_or_buf, StringIO)\n",
      "File \u001b[1;32m~\\anaconda3\\Lib\\site-packages\\pandas\\io\\formats\\csvs.py:240\u001b[0m, in \u001b[0;36mCSVFormatter.save\u001b[1;34m(self)\u001b[0m\n\u001b[0;32m    236\u001b[0m \u001b[38;5;250m\u001b[39m\u001b[38;5;124;03m\"\"\"\u001b[39;00m\n\u001b[0;32m    237\u001b[0m \u001b[38;5;124;03mCreate the writer & save.\u001b[39;00m\n\u001b[0;32m    238\u001b[0m \u001b[38;5;124;03m\"\"\"\u001b[39;00m\n\u001b[0;32m    239\u001b[0m \u001b[38;5;66;03m# apply compression and byte/text conversion\u001b[39;00m\n\u001b[1;32m--> 240\u001b[0m \u001b[38;5;28;01mwith\u001b[39;00m get_handle(\n\u001b[0;32m    241\u001b[0m     \u001b[38;5;28mself\u001b[39m\u001b[38;5;241m.\u001b[39mfilepath_or_buffer,\n\u001b[0;32m    242\u001b[0m     \u001b[38;5;28mself\u001b[39m\u001b[38;5;241m.\u001b[39mmode,\n\u001b[0;32m    243\u001b[0m     encoding\u001b[38;5;241m=\u001b[39m\u001b[38;5;28mself\u001b[39m\u001b[38;5;241m.\u001b[39mencoding,\n\u001b[0;32m    244\u001b[0m     errors\u001b[38;5;241m=\u001b[39m\u001b[38;5;28mself\u001b[39m\u001b[38;5;241m.\u001b[39merrors,\n\u001b[0;32m    245\u001b[0m     compression\u001b[38;5;241m=\u001b[39m\u001b[38;5;28mself\u001b[39m\u001b[38;5;241m.\u001b[39mcompression,\n\u001b[0;32m    246\u001b[0m     storage_options\u001b[38;5;241m=\u001b[39m\u001b[38;5;28mself\u001b[39m\u001b[38;5;241m.\u001b[39mstorage_options,\n\u001b[0;32m    247\u001b[0m ) \u001b[38;5;28;01mas\u001b[39;00m handles:\n\u001b[0;32m    248\u001b[0m     \u001b[38;5;66;03m# Note: self.encoding is irrelevant here\u001b[39;00m\n\u001b[0;32m    249\u001b[0m     \u001b[38;5;28mself\u001b[39m\u001b[38;5;241m.\u001b[39mwriter \u001b[38;5;241m=\u001b[39m csvlib\u001b[38;5;241m.\u001b[39mwriter(\n\u001b[0;32m    250\u001b[0m         handles\u001b[38;5;241m.\u001b[39mhandle,\n\u001b[0;32m    251\u001b[0m         lineterminator\u001b[38;5;241m=\u001b[39m\u001b[38;5;28mself\u001b[39m\u001b[38;5;241m.\u001b[39mlineterminator,\n\u001b[1;32m   (...)\u001b[0m\n\u001b[0;32m    256\u001b[0m         quotechar\u001b[38;5;241m=\u001b[39m\u001b[38;5;28mself\u001b[39m\u001b[38;5;241m.\u001b[39mquotechar,\n\u001b[0;32m    257\u001b[0m     )\n\u001b[0;32m    259\u001b[0m     \u001b[38;5;28mself\u001b[39m\u001b[38;5;241m.\u001b[39m_save()\n",
      "File \u001b[1;32m~\\anaconda3\\Lib\\site-packages\\pandas\\io\\common.py:737\u001b[0m, in \u001b[0;36mget_handle\u001b[1;34m(path_or_buf, mode, encoding, compression, memory_map, is_text, errors, storage_options)\u001b[0m\n\u001b[0;32m    735\u001b[0m \u001b[38;5;66;03m# Only for write methods\u001b[39;00m\n\u001b[0;32m    736\u001b[0m \u001b[38;5;28;01mif\u001b[39;00m \u001b[38;5;124m\"\u001b[39m\u001b[38;5;124mr\u001b[39m\u001b[38;5;124m\"\u001b[39m \u001b[38;5;129;01mnot\u001b[39;00m \u001b[38;5;129;01min\u001b[39;00m mode \u001b[38;5;129;01mand\u001b[39;00m is_path:\n\u001b[1;32m--> 737\u001b[0m     check_parent_directory(\u001b[38;5;28mstr\u001b[39m(handle))\n\u001b[0;32m    739\u001b[0m \u001b[38;5;28;01mif\u001b[39;00m compression:\n\u001b[0;32m    740\u001b[0m     \u001b[38;5;28;01mif\u001b[39;00m compression \u001b[38;5;241m!=\u001b[39m \u001b[38;5;124m\"\u001b[39m\u001b[38;5;124mzstd\u001b[39m\u001b[38;5;124m\"\u001b[39m:\n\u001b[0;32m    741\u001b[0m         \u001b[38;5;66;03m# compression libraries do not like an explicit text-mode\u001b[39;00m\n",
      "File \u001b[1;32m~\\anaconda3\\Lib\\site-packages\\pandas\\io\\common.py:600\u001b[0m, in \u001b[0;36mcheck_parent_directory\u001b[1;34m(path)\u001b[0m\n\u001b[0;32m    598\u001b[0m parent \u001b[38;5;241m=\u001b[39m Path(path)\u001b[38;5;241m.\u001b[39mparent\n\u001b[0;32m    599\u001b[0m \u001b[38;5;28;01mif\u001b[39;00m \u001b[38;5;129;01mnot\u001b[39;00m parent\u001b[38;5;241m.\u001b[39mis_dir():\n\u001b[1;32m--> 600\u001b[0m     \u001b[38;5;28;01mraise\u001b[39;00m \u001b[38;5;167;01mOSError\u001b[39;00m(\u001b[38;5;124mrf\u001b[39m\u001b[38;5;124m\"\u001b[39m\u001b[38;5;124mCannot save file into a non-existent directory: \u001b[39m\u001b[38;5;124m'\u001b[39m\u001b[38;5;132;01m{\u001b[39;00mparent\u001b[38;5;132;01m}\u001b[39;00m\u001b[38;5;124m'\u001b[39m\u001b[38;5;124m\"\u001b[39m)\n",
      "\u001b[1;31mOSError\u001b[0m: Cannot save file into a non-existent directory: 'data'"
     ]
    }
   ],
   "source": [
    "df.to_csv(\"data/cleaned-goodreads.csv\", index=False, header=True)"
   ]
  },
  {
   "cell_type": "markdown",
   "metadata": {},
   "source": [
    "---"
   ]
  },
  {
   "cell_type": "markdown",
   "metadata": {},
   "source": [
    "## Part 3: Grouping "
   ]
  },
  {
   "cell_type": "markdown",
   "metadata": {},
   "source": [
    "It appears that some books were written in negative years!  Print out the observations that correspond to negative years.  What do you notice about these books?  "
   ]
  },
  {
   "cell_type": "code",
   "execution_count": null,
   "metadata": {},
   "outputs": [],
   "source": [
    "df[df.year < 0].name\n",
    "#These are books written before the Common Era (BCE, equivalent to BC)."
   ]
  },
  {
   "cell_type": "markdown",
   "metadata": {},
   "source": [
    "We can determine the \"best book\" by year! For this we use Panda's `groupby()`. `Groupby()` allows grouping a dataframe by any (usually categorical) variable. Would it make sense to ever groupby integer variables? Floating point variables?"
   ]
  },
  {
   "cell_type": "code",
   "execution_count": null,
   "metadata": {},
   "outputs": [],
   "source": [
    "dfgb_author = df.groupby('author')\n",
    "type(dfgb_author)"
   ]
  },
  {
   "cell_type": "markdown",
   "metadata": {},
   "source": [
    "Perhaps we want the number of books each author wrote"
   ]
  },
  {
   "cell_type": "code",
   "execution_count": null,
   "metadata": {},
   "outputs": [],
   "source": [
    "dfgb_author.count()"
   ]
  },
  {
   "cell_type": "markdown",
   "metadata": {},
   "source": [
    "Lots of useless info there. One column should suffice"
   ]
  },
  {
   "cell_type": "markdown",
   "metadata": {},
   "source": [
    "### Exercise:\n",
    "\n",
    "- Group the dataframe by `author`. Include the following columns: `rating`, `name`, `author`. For the aggregation of the `name` column which includes the names of the books create a list with the strings containing the name of each book. Make sure that the way you aggregate the rest of the columns make sense! \n",
    "\n",
    "- Create a new column with number of books for each author and find the most prolific author!"
   ]
  },
  {
   "cell_type": "code",
   "execution_count": null,
   "metadata": {},
   "outputs": [],
   "source": [
    "###### Before we start : what do we do about these titles where 'name' is unreadable? Try different encodings?\n",
    "auth_name = 'A_id_al_Qarni'\n",
    "df[df.author == auth_name].head()"
   ]
  },
  {
   "cell_type": "code",
   "execution_count": null,
   "metadata": {},
   "outputs": [],
   "source": [
    "df[df.author == auth_name].iat[0,8].encode('UTF-16')"
   ]
  },
  {
   "cell_type": "code",
   "execution_count": null,
   "metadata": {},
   "outputs": [],
   "source": [
    "# let's examine the columns we have\n",
    "df.columns"
   ]
  },
  {
   "cell_type": "markdown",
   "metadata": {},
   "source": [
    "Create the GroupBy table"
   ]
  },
  {
   "cell_type": "code",
   "execution_count": null,
   "metadata": {},
   "outputs": [],
   "source": [
    "authors = df.copy()\n",
    "authors = authors[['rating','name','author']].groupby('author').agg({'rating' : np.mean,\n",
    "                                                                    'name' : '|'.join})"
   ]
  },
  {
   "cell_type": "code",
   "execution_count": null,
   "metadata": {},
   "outputs": [],
   "source": [
    "authors = authors.reset_index()\n",
    "authors.head()"
   ]
  },
  {
   "cell_type": "code",
   "execution_count": null,
   "metadata": {},
   "outputs": [],
   "source": [
    "# split the column string and make a list of string book names\n",
    "authors['name'] = authors.name.str.split('|')\n",
    "authors.head()"
   ]
  },
  {
   "cell_type": "code",
   "execution_count": null,
   "metadata": {},
   "outputs": [],
   "source": [
    "# count the books - create new column\n",
    "len(authors.name[0])"
   ]
  },
  {
   "cell_type": "code",
   "execution_count": null,
   "metadata": {},
   "outputs": [],
   "source": [
    "authors['num_books'] = authors['name'].str.len()\n",
    "authors"
   ]
  },
  {
   "cell_type": "code",
   "execution_count": null,
   "metadata": {},
   "outputs": [],
   "source": [
    "# sort for more prolific\n",
    "authors.sort_values(by='num_books', ascending=False).iloc[0]"
   ]
  },
  {
   "cell_type": "markdown",
   "metadata": {},
   "source": [
    "#### Winner is Stephen King with 56 books! OMG!!!"
   ]
  },
  {
   "cell_type": "markdown",
   "metadata": {},
   "source": [
    "Perhaps you want more detailed info..."
   ]
  },
  {
   "cell_type": "code",
   "execution_count": null,
   "metadata": {
    "scrolled": true
   },
   "outputs": [],
   "source": [
    "dfgb_author[['rating', 'rating_count', 'review_count', 'year']].describe()"
   ]
  },
  {
   "cell_type": "markdown",
   "metadata": {},
   "source": [
    "You can also access a `groupby` dictionary style."
   ]
  },
  {
   "cell_type": "code",
   "execution_count": null,
   "metadata": {},
   "outputs": [],
   "source": [
    "ratingdict = {}\n",
    "for author, subset in dfgb_author:\n",
    "    ratingdict[author] = (subset['rating'].mean(), subset['rating'].std())\n",
    "ratingdict"
   ]
  },
  {
   "cell_type": "markdown",
   "metadata": {},
   "source": [
    "**This question is primarily aimed at graduate students, serving as a critical part of their assignment. However, undergraduate students are encouraged to take this on as an optional bonus challenge.**\n",
    "<div class=\"exercise\"><b>Exercise 7</b></div>\n",
    "\n",
    "Lets get the best-rated book(s) for every year in our dataframe."
   ]
  },
  {
   "cell_type": "code",
   "execution_count": 53,
   "metadata": {},
   "outputs": [
    {
     "name": "stdout",
     "output_type": "stream",
     "text": [
      "Year: -1500\n",
      "                       name  rating\n",
      "1398  The Epic of Gilgamesh     3.6 \n",
      "\n",
      "Year: -800\n",
      "                      name  rating\n",
      "246  The Iliad/The Odyssey    4.01 \n",
      "\n",
      "Year: -560\n",
      "                name  rating\n",
      "1397  Aesop's Fables    4.03 \n",
      "\n",
      "Year: -512\n",
      "               name  rating\n",
      "674  The Art of War    3.92 \n",
      "\n",
      "Year: -500\n",
      "                  name  rating\n",
      "746  The Bhagavad Gita    4.06 \n",
      "\n",
      "Year: -458\n",
      "              name  rating\n",
      "1815  The Oresteia    3.96 \n",
      "\n",
      "Year: -442\n",
      "         name  rating\n",
      "777  Antigone    3.52 \n",
      "\n",
      "Year: -440\n",
      "               name  rating\n",
      "2527  The Histories    3.94 \n",
      "\n",
      "Year: -431\n",
      "       name  rating\n",
      "1428  Medea     3.8 \n",
      "\n",
      "Year: -429\n",
      "            name  rating\n",
      "629  Oedipus Rex    3.64 \n",
      "\n",
      "Year: -411\n",
      "                                      name  rating\n",
      "2078  The History of the Peloponnesian War    3.84 \n",
      "\n",
      "Year: -400\n",
      "                name  rating\n",
      "3133  Complete Works     4.3 \n",
      "\n",
      "Year: -390\n",
      "         name  rating\n",
      "4475  Apology    4.11 \n",
      "\n",
      "Year: -380\n",
      "             name  rating\n",
      "455  The Republic    3.85 \n",
      "\n",
      "Year: -370\n",
      "               name  rating\n",
      "4402  The Symposium    3.99 \n",
      "\n",
      "Year: -360\n",
      "                name  rating\n",
      "5367  Five Dialogues    4.07 \n",
      "\n",
      "Year: -350\n",
      "                        name  rating\n",
      "3274  The Nicomachean Ethics    3.88 \n",
      "\n",
      "Year: -29\n",
      "           name  rating\n",
      "596  The Aeneid    3.77 \n",
      "\n",
      "Year: 4\n",
      "                                     name  rating\n",
      "4717  The Seven Spiritual Laws of Success    4.04 \n",
      "\n",
      "Year: 8\n",
      "               name  rating\n",
      "1330  Metamorphoses    4.01 \n",
      "\n",
      "Year: 13\n",
      "                                 name  rating\n",
      "1752  The Day Jesus Rode Into Croydon    3.85 \n",
      "\n",
      "Year: 100\n",
      "                                                   name  rating\n",
      "2329  The New Oxford Annotated Bible, New Revised St...     4.3 \n",
      "\n",
      "Year: 121\n",
      "                    name  rating\n",
      "4843  The Twelve Caesars    4.02 \n",
      "\n",
      "Year: 130\n",
      "            name  rating\n",
      "1860  Holy Bible    4.45 \n",
      "\n",
      "Year: 158\n",
      "                name  rating\n",
      "4534  The Golden Ass    3.88 \n",
      "\n",
      "Year: 174\n",
      "             name  rating\n",
      "1169  Meditations    4.16 \n",
      "\n",
      "Year: 200\n",
      "                    name  rating\n",
      "1622  The Garden of Eden    3.75 \n",
      "\n",
      "Year: 201\n",
      "                 name  rating\n",
      "5404  Fe Fi FOE Comes    4.37 \n",
      "\n",
      "Year: 213\n",
      "               name  rating\n",
      "2564  NaÃ¯ve. Super     3.9 \n",
      "\n",
      "Year: 397\n",
      "             name  rating\n",
      "1393  Confessions    3.82 \n",
      "\n",
      "Year: 632\n",
      "          name  rating\n",
      "301  The Quran    4.37 \n",
      "\n",
      "Year: 800\n",
      "        name  rating\n",
      "327  Beowulf    3.38 \n",
      "\n",
      "Year: 900\n",
      "                   name  rating\n",
      "569  The Arabian Nights    4.04 \n",
      "\n",
      "Year: 968\n",
      "                                             name  rating\n",
      "4953  La BÃªte humaine (Les Rougon-Macquart, #17)    4.02 \n",
      "\n",
      "Year: 1002\n",
      "                 name  rating\n",
      "2567  The Pillow Book    4.04 \n",
      "\n",
      "Year: 1008\n",
      "                  name  rating\n",
      "852  The Tale of Genji    3.68 \n",
      "\n",
      "Year: 1010\n",
      "           name  rating\n",
      "5439  Shahnameh    4.52 \n",
      "\n",
      "Year: 1100\n",
      "                          name  rating\n",
      "1653  Rubaiyat of Omar Khayyam    4.22 \n",
      "\n",
      "Year: 1106\n",
      "           name  rating\n",
      "5798  The TÃ¡in    3.98 \n",
      "\n",
      "Year: 1140\n",
      "                   name  rating\n",
      "5831  Poema de MÃ­o Cid    3.42 \n",
      "\n",
      "Year: 1200\n",
      "                 name  rating\n",
      "4691  The Poetic Edda    4.24 \n",
      "\n",
      "Year: 1215\n",
      "                       name  rating\n",
      "3311  Ù",
      "Ø«ÙÙÛ Ù",
      "Ø¹ÙÙÛ    4.44 \n",
      "\n",
      "Year: 1220\n",
      "                name  rating\n",
      "4054  The Prose Edda    4.16 \n",
      "\n",
      "Year: 1300\n",
      "                         name  rating\n",
      "2863  The Imitation of Christ    4.16 \n",
      "\n",
      "Year: 1314\n",
      "                                name  rating\n",
      "363  Inferno (The Divine Comedy, #1)    3.96 \n",
      "\n",
      "Year: 1321\n",
      "                  name  rating\n",
      "132  The Divine Comedy    4.04 \n",
      "\n",
      "Year: 1348\n",
      "              name  rating\n",
      "913  The Decameron    3.85 \n",
      "\n",
      "Year: 1386\n",
      "             name  rating\n",
      "4422  Auto-da-FÃ©    4.04 \n",
      "\n",
      "Year: 1390\n",
      "                                 name  rating\n",
      "3272  Sir Gawain and the Green Knight    3.66 \n",
      "\n",
      "Year: 1391\n",
      "                            name  rating\n",
      "5542  Keep the Aspidistra Flying    3.86 \n",
      "\n",
      "Year: 1485\n",
      "                   name  rating\n",
      "1613  Le Morte d'Arthur    3.91 \n",
      "\n",
      "Year: 1516\n",
      "        name  rating\n",
      "1692  Utopia    3.46 \n",
      "\n",
      "Year: 1522\n",
      "                name  rating\n",
      "2266  Three Kingdoms    4.41 \n",
      "\n",
      "Year: 1532\n",
      "           name  rating\n",
      "384  The Prince    3.72 \n",
      "\n",
      "Year: 1572\n",
      "                     name  rating\n",
      "2177  The Complete Essays    4.21 \n",
      "\n",
      "Year: 1589\n",
      "                  name  rating\n",
      "5705  Titus Andronicus     3.7 \n",
      "\n",
      "Year: 1590\n",
      "                        name  rating\n",
      "774  The Taming of the Shrew    3.82 \n",
      "\n",
      "Year: 1592\n",
      "        name  rating\n",
      "3954  Monkey    4.04 \n",
      "\n",
      "Year: 1595\n",
      "                          name  rating\n",
      "161  A Midsummer Night's Dream    3.93 \n",
      "\n",
      "Year: 1597\n",
      "             name  rating\n",
      "1204  Richard III     3.9 \n",
      "\n",
      "Year: 1599\n",
      "                       name  rating\n",
      "539  Much Ado About Nothing    4.05 \n",
      "\n",
      "Year: 1600\n",
      "         name  rating\n",
      "2687  Henry V    3.85 \n",
      "\n",
      "Year: 1601\n",
      "              name  rating\n",
      "489  Twelfth Night    3.95 \n",
      "\n",
      "Year: 1602\n",
      "        name  rating\n",
      "3097  Hamlet    3.98 \n",
      "\n",
      "Year: 1603\n",
      "        name  rating\n",
      "245  Othello    3.86 \n",
      "\n",
      "Year: 1604\n",
      "                name  rating\n",
      "2384  Doctor Faustus    3.77 \n",
      "\n",
      "Year: 1605\n",
      "          name  rating\n",
      "248  King Lear    3.88 \n",
      "\n",
      "Year: 1606\n",
      "                      name  rating\n",
      "2454  Antony and Cleopatra    3.64 \n",
      "\n",
      "Year: 1608\n",
      "            name  rating\n",
      "5345  Coriolanus    3.65 \n",
      "\n",
      "Year: 1609\n",
      "                      name  rating\n",
      "797  Shakespeare's Sonnets    4.24 \n",
      "\n",
      "Year: 1611\n",
      "            name  rating\n",
      "4617  Holy Bible    4.39 \n",
      "\n",
      "Year: 1621\n",
      "                           name  rating\n",
      "5598  The Anatomy of Melancholy    4.21 \n",
      "\n",
      "Year: 1623\n",
      "                   name  rating\n",
      "283  The Complete Works     4.5 \n",
      "\n",
      "Year: 1635\n",
      "                   name  rating\n",
      "3200  La vida es sueÃ±o    3.98 \n",
      "\n",
      "Year: 1642\n",
      "                      name  rating\n",
      "4877  A Book of Five Rings    4.11 \n",
      "\n",
      "Year: 1667\n",
      "              name  rating\n",
      "254  Paradise Lost    3.77 \n",
      "\n",
      "Year: 1678\n",
      "                       name  rating\n",
      "897  The Pilgrim's Progress    3.92 \n",
      "\n",
      "Year: 1680\n",
      "           name  rating\n",
      "4792  The Divan    4.65 \n",
      "\n",
      "Year: 1691\n",
      "                                     name  rating\n",
      "3217  The Practice of the Presence of God    4.31 \n",
      "\n",
      "Year: 1719\n",
      "                name  rating\n",
      "392  Robinson Crusoe    3.62 \n",
      "\n",
      "Year: 1721\n",
      "               name  rating\n",
      "4547  Moll Flanders    3.45 \n",
      "\n",
      "Year: 1726\n",
      "                   name  rating\n",
      "315  Gulliver's Travels    3.52 \n",
      "\n",
      "Year: 1729\n",
      "                                             name  rating\n",
      "1219  A Modest Proposal and Other Satirical Works    4.03 \n",
      "\n",
      "Year: 1748\n",
      "                                           name  rating\n",
      "3788  Clarissa, or, the History of a Young Lady    3.28 \n",
      "\n",
      "Year: 1749\n",
      "                                       name  rating\n",
      "1514  The History of Tom Jones, a Foundling    3.72 \n",
      "\n",
      "Year: 1759\n",
      "        name  rating\n",
      "258  Candide    3.74 \n",
      "\n",
      "Year: 1767\n",
      "                                                  name  rating\n",
      "983  The Life and Opinions of Tristram Shandy, Gent...    3.76 \n",
      "\n",
      "Year: 1774\n",
      "                             name  rating\n",
      "910  The Sorrows of Young Werther    3.59 \n",
      "\n",
      "Year: 1776\n",
      "                                                   name  rating\n",
      "4894  The Declaration of Independence and The Consti...    4.44 \n",
      "\n",
      "Year: 1778\n",
      "         name  rating\n",
      "4993  Evelina    3.62 \n",
      "\n",
      "Year: 1781\n",
      "                         name  rating\n",
      "2537  Critique of Pure Reason    3.85 \n",
      "\n",
      "Year: 1782\n",
      "                          name  rating\n",
      "1215  Les Liaisons Dangereuses    4.08 \n",
      "\n",
      "Year: 1787\n",
      "                                                  name  rating\n",
      "1268  The Constitution of the United States of America    4.52 \n",
      "\n",
      "Year: 1790\n",
      "                                 name  rating\n",
      "5355  The Marriage of Heaven and Hell    4.27 \n",
      "\n",
      "Year: 1791\n",
      "                          name  rating\n",
      "3927  Dream of the Red Chamber    4.05 \n",
      "\n",
      "Year: 1794\n",
      "                                     name  rating\n",
      "773  Songs of Innocence and of Experience    4.11 \n",
      "\n",
      "Year: 1795\n",
      "          name  rating\n",
      "2471  The Monk    3.77 \n",
      "\n",
      "Year: 1798\n",
      "                 name  rating\n",
      "5300  Lyrical Ballads    3.92 \n",
      "\n",
      "Year: 1806\n",
      "                         name  rating\n",
      "5173  Phenomenology of Spirit    3.85 \n",
      "\n",
      "Year: 1811\n",
      "                       name  rating\n",
      "4818  Sense and Sensibility    4.04 \n",
      "\n",
      "Year: 1812\n",
      "                                 name  rating\n",
      "843  The Complete Grimm's Fairy Tales    4.29 \n",
      "\n",
      "Year: 1813\n",
      "                  name  rating\n",
      "4  Pride and Prejudice    4.23 \n",
      "\n",
      "Year: 1814\n",
      "               name  rating\n",
      "328  Mansfield Park    3.79 \n",
      "\n",
      "Year: 1815\n",
      "      name  rating\n",
      "3912  Emma    3.97 \n",
      "\n",
      "Year: 1817\n",
      "            name  rating\n",
      "3354  Persuasion    4.12 \n",
      "\n",
      "Year: 1818\n",
      "            name  rating\n",
      "61  Frankenstein     3.7 \n",
      "\n",
      "Year: 1819\n",
      "        name  rating\n",
      "637  Ivanhoe    3.71 \n",
      "\n",
      "Year: 1820\n",
      "                             name  rating\n",
      "3305  The Legend of Sleepy Hollow    3.94 \n",
      "\n",
      "Year: 1823\n",
      "                           name  rating\n",
      "587  The Night Before Christmas    4.34 \n",
      "\n",
      "Year: 1824\n",
      "          name  rating\n",
      "2541  Don Juan    3.79 \n",
      "\n",
      "Year: 1825\n",
      "              name  rating\n",
      "924  Eugene Onegin    4.03 \n",
      "\n",
      "Year: 1826\n",
      "                                                  name  rating\n",
      "857  The Last of the Mohicans (The Leatherstocking ...    3.67 \n",
      "\n",
      "Year: 1830\n",
      "                   name  rating\n",
      "617  The Book of Mormon    4.42 \n",
      "\n",
      "Year: 1831\n",
      "                            name  rating\n",
      "390  The Hunchback of Notre-Dame    3.93 \n",
      "\n",
      "Year: 1832\n",
      "       name  rating\n",
      "4317  Faust    3.98 \n",
      "\n",
      "Year: 1833\n",
      "        name  rating\n",
      "5250  Poetry    4.04 \n",
      "\n",
      "Year: 1834\n",
      "              name  rating\n",
      "3777  PÃ¨re Goriot    3.79 \n",
      "\n",
      "Year: 1835\n",
      "                                                   name  rating\n",
      "4191  Hymns of The Church of Jesus Christ of Latter-...    4.68 \n",
      "\n",
      "Year: 1837\n",
      "                                   name  rating\n",
      "4690  A Season in Hell/The Drunken Boat    4.34 \n",
      "\n",
      "Year: 1839\n",
      "                    name  rating\n",
      "2267  A Hero of Our Time    4.09 \n",
      "\n",
      "Year: 1840\n",
      "                                  name  rating\n",
      "3533  Tales of Mystery and Imagination     4.2 \n",
      "\n",
      "Year: 1841\n",
      "                        name  rating\n",
      "2711  The Old Curiosity Shop    3.69 \n",
      "\n",
      "Year: 1842\n",
      "                                                   name  rating\n",
      "4934  The pit and the pendulum and other stories (Pe...    4.12 \n",
      "\n",
      "Year: 1843\n",
      "                name  rating\n",
      "3607  Lost Illusions    4.14 \n",
      "\n",
      "Year: 1844\n",
      "           name  rating\n",
      "2114  The Raven    4.23 \n",
      "\n",
      "Year: 1845\n",
      "                          name  rating\n",
      "954  The Raven and Other Poems    4.27 \n",
      "\n",
      "Year: 1847\n",
      "         name  rating\n",
      "34  Jane Eyre    4.07 \n",
      "\n",
      "Year: 1848\n",
      "                                name  rating\n",
      "2866  White Nights and Other Stories    4.09 \n",
      "\n",
      "Year: 1849\n",
      "         name  rating\n",
      "3770  The Law     4.4 \n",
      "\n",
      "Year: 1850\n",
      "         name  rating\n",
      "4445  Ishmael     4.4 \n",
      "\n",
      "Year: 1851\n",
      "              name  rating\n",
      "5048  Paris Spleen    4.33 \n",
      "\n",
      "Year: 1852\n",
      "                  name  rating\n",
      "255  Uncle Tom's Cabin    3.77 \n",
      "\n",
      "Year: 1853\n",
      "                                           name  rating\n",
      "3043  The History of Joseph Smith by His Mother    4.37 \n",
      "\n",
      "Year: 1854\n",
      "                             name  rating\n",
      "1813  Walden & Civil Disobedience    3.97 \n",
      "\n",
      "Year: 1855\n",
      "                name  rating\n",
      "502  North and South    4.13 \n",
      "\n",
      "Year: 1856\n",
      "                name  rating\n",
      "4328  Song of Myself    4.17 \n",
      "\n",
      "Year: 1857\n",
      "                   name  rating\n",
      "1245  Les Fleurs du Mal    4.26 \n",
      "\n",
      "Year: 1859\n",
      "                      name  rating\n",
      "358  The Origin of Species    3.94 \n",
      "\n",
      "Year: 1860\n",
      "                     name  rating\n",
      "4094  Stepping Heavenward    4.27 \n",
      "\n",
      "Year: 1861\n",
      "                       name  rating\n",
      "537  Notes from Underground    4.14 \n",
      "\n",
      "Year: 1862\n",
      "               name  rating\n",
      "15  Les MisÃ©rables    4.09 \n",
      "\n",
      "Year: 1863\n",
      "                                                   name  rating\n",
      "5014  From the Earth to the Moon (Extraordinary Voya...    3.76 \n",
      "\n",
      "Year: 1864\n",
      "                   name  rating\n",
      "1516  Our Mutual Friend    4.08 \n",
      "\n",
      "Year: 1865\n",
      "                                                   name  rating\n",
      "13    Alice's Adventures in Wonderland & Through the...    4.05\n",
      "1378                                Wives and Daughters    4.05 \n",
      "\n",
      "Year: 1866\n",
      "                                                   name  rating\n",
      "5101  Morning and Evening, Based on the English Stan...    4.49 \n",
      "\n",
      "Year: 1867\n",
      "                                     name  rating\n",
      "3079  Capital, Volume 1 (Das Kapital, #1)    4.15 \n",
      "\n",
      "Year: 1868\n",
      "                               name  rating\n",
      "92  Little Women (Little Women, #1)     4.0 \n",
      "\n",
      "Year: 1869\n",
      "          name  rating\n",
      "273  The Idiot    4.15 \n",
      "\n",
      "Year: 1870\n",
      "                name  rating\n",
      "4181  Complete Works    4.42 \n",
      "\n",
      "Year: 1871\n",
      "                                                   name  rating\n",
      "2876  Through the Looking-Glass, and What Alice Foun...    4.09 \n",
      "\n",
      "Year: 1872\n",
      "            name  rating\n",
      "292  Middlemarch    3.89 \n",
      "\n",
      "Year: 1873\n",
      "                                name  rating\n",
      "934  Around the World in Eighty Days    3.87 \n",
      "\n",
      "Year: 1874\n",
      "                          name  rating\n",
      "1338  The Complete Fairy Tales    4.27 \n",
      "\n",
      "Year: 1875\n",
      "               name  rating\n",
      "3869  Illuminations    4.42 \n",
      "\n",
      "Year: 1876\n",
      "                             name  rating\n",
      "102  The Adventures of Tom Sawyer    3.86 \n",
      "\n",
      "Year: 1877\n",
      "                                                   name  rating\n",
      "2893  L'Assommoir (The Dram Shop) (The Dram Shop) (L...    4.05 \n",
      "\n",
      "Year: 1878\n",
      "                      name  rating\n",
      "2962  Human, All Too Human     4.2 \n",
      "\n",
      "Year: 1879\n",
      "            name  rating\n",
      "5811  Sir Gibbie    4.25 \n",
      "\n",
      "Year: 1880\n",
      "                      name  rating\n",
      "74  The Brothers Karamazov    4.28 \n",
      "\n",
      "Year: 1881\n",
      "                           name  rating\n",
      "1765  The Prince and the Pauper    3.81 \n",
      "\n",
      "Year: 1882\n",
      "                 name  rating\n",
      "3923  The Gay Science    4.23 \n",
      "\n",
      "Year: 1883\n",
      "                        name  rating\n",
      "1341  Thus Spoke Zarathustra    4.03 \n",
      "\n",
      "Year: 1884\n",
      "                         name  rating\n",
      "2250  The Death of Ivan Ilych    3.98 \n",
      "\n",
      "Year: 1885\n",
      "                                    name  rating\n",
      "991  Germinal (Les Rougon-Macquart, #13)    4.05 \n",
      "\n",
      "Year: 1886\n",
      "                      name  rating\n",
      "1544  Beyond Good and Evil     4.0 \n",
      "\n",
      "Year: 1887\n",
      "                                          name  rating\n",
      "1094  A Study in Scarlet (Sherlock Holmes, #1)    4.13 \n",
      "\n",
      "Year: 1888\n",
      "                              name  rating\n",
      "1887      The Complete Fairy Tales    4.33\n",
      "4857  The Nightingale and the Rose    4.33 \n",
      "\n",
      "Year: 1889\n",
      "                     name  rating\n",
      "1075  The Collected Poems    4.25 \n",
      "\n",
      "Year: 1890\n",
      "        name  rating\n",
      "1724  Hunger    4.11 \n",
      "\n",
      "Year: 1891\n",
      "                                                   name  rating\n",
      "5252  A Scandal in Bohemia (The Adventures of Sherlo...    4.22 \n",
      "\n",
      "Year: 1892\n",
      "                                                 name  rating\n",
      "64  The Adventures of Sherlock Holmes (Sherlock Ho...    4.27 \n",
      "\n",
      "Year: 1893\n",
      "                                                   name  rating\n",
      "2634  The Memoirs of Sherlock Holmes (Sherlock Holme...    4.33 \n",
      "\n",
      "Year: 1894\n",
      "                 name  rating\n",
      "694  The Jungle Books    3.97 \n",
      "\n",
      "Year: 1895\n",
      "                                                 name  rating\n",
      "2792  The Importance of Being Earnest and Other Plays    4.24 \n",
      "\n",
      "Year: 1896\n",
      "                 name  rating\n",
      "4282  Story of a Soul    4.36 \n",
      "\n",
      "Year: 1897\n",
      "                                 name  rating\n",
      "4252  De Profundis and Other Writings    4.19 \n",
      "\n",
      "Year: 1898\n",
      "                      name  rating\n",
      "541  The War of the Worlds    3.75 \n",
      "\n",
      "Year: 1899\n",
      "                                           name  rating\n",
      "5549  The Complete Works of William Shakespeare    4.62 \n",
      "\n",
      "Year: 1900\n",
      "                  name  rating\n",
      "4910  Selected Stories    4.35 \n",
      "\n",
      "Year: 1901\n",
      "                          name  rating\n",
      "2525  The Tale of Peter Rabbit    4.14 \n",
      "\n",
      "Year: 1902\n",
      "            name  rating\n",
      "5601  Holy Bible    4.66 \n",
      "\n",
      "Year: 1903\n",
      "                      name  rating\n",
      "375  The Scarlet Pimpernel    4.05 \n",
      "\n",
      "Year: 1904\n",
      "                                                   name  rating\n",
      "3651  The Return of Sherlock Holmes (Sherlock Holmes...    4.27 \n",
      "\n",
      "Year: 1905\n",
      "                  name  rating\n",
      "203  A Little Princess    4.19 \n",
      "\n",
      "Year: 1906\n",
      "                                   name  rating\n",
      "3963  The Unabridged Devil's Dictionary    4.15 \n",
      "\n",
      "Year: 1907\n",
      "                           name  rating\n",
      "3155  The Shepherd of the Hills    4.14 \n",
      "\n",
      "Year: 1908\n",
      "                                                  name  rating\n",
      "946  The Complete Anne of Green Gables Boxed Set (A...    4.42 \n",
      "\n",
      "Year: 1909\n",
      "             name  rating\n",
      "1465  Martin Eden    4.31 \n",
      "\n",
      "Year: 1910\n",
      "           name  rating\n",
      "4965  Gitanjali    4.33 \n",
      "\n",
      "Year: 1911\n",
      "                 name  rating\n",
      "39  The Secret Garden    4.09 \n",
      "\n",
      "Year: 1912\n",
      "                                       name  rating\n",
      "2496  Daddy-Long-Legs (Daddy-Long-Legs, #1)    4.07 \n",
      "\n",
      "Year: 1913\n",
      "                                                   name  rating\n",
      "3555  In the Shadow of Young Girls in Flower (In Sea...    4.39 \n",
      "\n",
      "Year: 1914\n",
      "                                      name  rating\n",
      "3265  Rashomon and Seventeen Other Stories     4.1 \n",
      "\n",
      "Year: 1915\n",
      "                  name  rating\n",
      "2466  Jesus the Christ    4.66 \n",
      "\n",
      "Year: 1916\n",
      "                         name  rating\n",
      "3941  The Mysterious Stranger    4.14 \n",
      "\n",
      "Year: 1917\n",
      "                                                   name  rating\n",
      "2200  Anne's House of Dreams (Anne of Green Gables, #5)     4.1 \n",
      "\n",
      "Year: 1918\n",
      "                       name  rating\n",
      "3679  The Elements of Style    4.17 \n",
      "\n",
      "Year: 1919\n",
      "                            name  rating\n",
      "2456  Remembrance of Things Past    4.28 \n",
      "\n",
      "Year: 1920\n",
      "                    name  rating\n",
      "5334  The Guermantes Way    4.33 \n",
      "\n",
      "Year: 1921\n",
      "                                               name  rating\n",
      "3156  Rilla of Ingleside (Anne of Green Gables, #8)    4.13 \n",
      "\n",
      "Year: 1922\n",
      "                            name  rating\n",
      "4980  Remembrance of Things Past    4.53 \n",
      "\n",
      "Year: 1923\n",
      "                                                   name  rating\n",
      "5190  Leave It to Psmith (Psmith, #4 ; Blandings Cas...    4.28 \n",
      "\n",
      "Year: 1924\n",
      "                             name  rating\n",
      "353  The Complete Sherlock Holmes    4.49 \n",
      "\n",
      "Year: 1925\n",
      "                                                   name  rating\n",
      "5546  The Captive & The Fugitive (In Search of Lost ...    4.41 \n",
      "\n",
      "Year: 1926\n",
      "                              name  rating\n",
      "3685  The World of Winnie-the-Pooh    4.41 \n",
      "\n",
      "Year: 1927\n",
      "                                            name  rating\n",
      "3952  Time Regained (In Search of Lost Time, #7)     4.5 \n",
      "\n",
      "Year: 1928\n",
      "                          name  rating\n",
      "1550  The House at Pooh Corner    4.35 \n",
      "\n",
      "Year: 1929\n",
      "                         name  rating\n",
      "4791  Letters to a Young Poet    4.35 \n",
      "\n",
      "Year: 1930\n",
      "                                         name  rating\n",
      "4570  The Complete Sherlock Holmes, Volume II    4.44 \n",
      "\n",
      "Year: 1931\n",
      "                    name  rating\n",
      "5385  The Joy of Cooking    4.15 \n",
      "\n",
      "Year: 1932\n",
      "                                name  rating\n",
      "871  Journey to the End of the Night    4.25 \n",
      "\n",
      "Year: 1933\n",
      "                    name  rating\n",
      "304  The Complete Novels    4.54 \n",
      "\n",
      "Year: 1934\n",
      "                              name  rating\n",
      "2191  I, Claudius/Claudius the God    4.42 \n",
      "\n",
      "Year: 1935\n",
      "         name  rating\n",
      "1804  Musashi    4.41 \n",
      "\n",
      "Year: 1936\n",
      "                name  rating\n",
      "2045  Three Comrades    4.48 \n",
      "\n",
      "Year: 1937\n",
      "                          name  rating\n",
      "2243  The Cost of Discipleship    4.35 \n",
      "\n",
      "Year: 1938\n",
      "                     name  rating\n",
      "5430  The Science of Mind    4.39 \n",
      "\n",
      "Year: 1939\n",
      "                 name  rating\n",
      "2038  Arch of Triumph    4.39 \n",
      "\n",
      "Year: 1940\n",
      "                 name  rating\n",
      "75  The Little Prince    4.23 \n",
      "\n",
      "Year: 1941\n",
      "                     name  rating\n",
      "5821  Ø¹Ø¨ÙØ±ÙØ© Ø¹Ù",
      "Ø±    4.25 \n",
      "\n",
      "Year: 1942\n",
      "                  name  rating\n",
      "5953  The Little House    4.27 \n",
      "\n",
      "Year: 1943\n",
      "                       name  rating\n",
      "2958  KÃ¼rk Mantolu Madonna    4.55 \n",
      "\n",
      "Year: 1944\n",
      "          name  rating\n",
      "804  Ficciones    4.48 \n",
      "\n",
      "Year: 1945\n",
      "                             name  rating\n",
      "2488  The Aleph and Other Stories    4.41 \n",
      "\n",
      "Year: 1946\n",
      "                      name  rating\n",
      "1848  The Complete Stories    4.34 \n",
      "\n",
      "Year: 1947\n",
      "                       name  rating\n",
      "1309  Survival in Auschwitz    4.32 \n",
      "\n",
      "Year: 1948\n",
      "                  name  rating\n",
      "4517  King of the Wind    4.17 \n",
      "\n",
      "Year: 1949\n",
      "         name  rating\n",
      "5925  Paroles    4.27 \n",
      "\n",
      "Year: 1950\n",
      "                                                   name  rating\n",
      "1950  à®ªà¯à®©à¯à®©à®¿à®¯à®¿à®©à¯ à®à¯à®²à¯à®µ...    4.71 \n",
      "\n",
      "Year: 1951\n",
      "                                          name  rating\n",
      "484  The Foundation Trilogy (Foundation, #1-3)    4.37 \n",
      "\n",
      "Year: 1952\n",
      "            name  rating\n",
      "5726  Holy Bible    4.55 \n",
      "\n",
      "Year: 1953\n",
      "                                     name  rating\n",
      "5517  The Flight of the Feathered Serpent    4.55 \n",
      "\n",
      "Year: 1954\n",
      "                                                   name  rating\n",
      "4863  The Return of the King (The Lord of the Rings,...    4.48 \n",
      "\n",
      "Year: 1955\n",
      "                           name  rating\n",
      "3719  Les rois maudits Vols 1-7    4.44 \n",
      "\n",
      "Year: 1956\n",
      "                           name  rating\n",
      "5701  Through Gates of Splendor    4.37 \n",
      "\n",
      "Year: 1957\n",
      "                                            name  rating\n",
      "3855  The Cairo Trilogy (The Cairo Trilogy #1-3)    4.46 \n",
      "\n",
      "Year: 1958\n",
      "       name  rating\n",
      "712  Exodus    4.31 \n",
      "\n",
      "Year: 1959\n",
      "                  name  rating\n",
      "3099     Life and Fate    4.44\n",
      "4471  100 Love Sonnets    4.44 \n",
      "\n",
      "Year: 1960\n",
      "                     name  rating\n",
      "5941  The Annotated Alice    4.48 \n",
      "\n",
      "Year: 1961\n",
      "                                              name  rating\n",
      "5408  New World Translation of the Holy Scriptures    4.59 \n",
      "\n",
      "Year: 1962\n",
      "            name  rating\n",
      "1122  Labyrinths    4.47 \n",
      "\n",
      "Year: 1963\n",
      "               name  rating\n",
      "1540  The Civil War    4.58 \n",
      "\n",
      "Year: 1964\n",
      "                                 name  rating\n",
      "4666  The Feynman Lectures on Physics    4.57 \n",
      "\n",
      "Year: 1965\n",
      "                               name  rating\n",
      "5631  Manchild in the Promised Land     4.3 \n",
      "\n",
      "Year: 1966\n",
      "                                                   name  rating\n",
      "5806  The Disorderly Knights (The Lymond Chronicles,...    4.57 \n",
      "\n",
      "Year: 1967\n",
      "                          name  rating\n",
      "112   The Master and Margarita    4.33\n",
      "3670     The Forgotten Soldier    4.33 \n",
      "\n",
      "Year: 1968\n",
      "                               name  rating\n",
      "5311  The Proper Role of Government    4.49 \n",
      "\n",
      "Year: 1969\n",
      "                                                  name  rating\n",
      "3463  Pawn in Frankincense (The Lymond Chronicles, #4)    4.64 \n",
      "\n",
      "Year: 1970\n",
      "              name  rating\n",
      "5716  The Fortress    4.67 \n",
      "\n",
      "Year: 1971\n",
      "                name  rating\n",
      "3863  Tutunamayanlar    4.61 \n",
      "\n",
      "Year: 1972\n",
      "               name  rating\n",
      "5874  Le Monogramme    4.78 \n",
      "\n",
      "Year: 1973\n",
      "                               name  rating\n",
      "17  J.R.R. Tolkien 4-Book Boxed Set    4.58 \n",
      "\n",
      "Year: 1974\n",
      "                  name  rating\n",
      "3361  The Power Broker    4.51 \n",
      "\n",
      "Year: 1975\n",
      "                                       name  rating\n",
      "2490  Checkmate (The Lymond Chronicles, #6)    4.71 \n",
      "\n",
      "Year: 1976\n",
      "      name  rating\n",
      "224  Roots    4.39 \n",
      "\n",
      "Year: 1977\n",
      "                     name  rating\n",
      "4525  A Lover's Discourse    4.37 \n",
      "\n",
      "Year: 1978\n",
      "                        name  rating\n",
      "2435  The Best of Roald Dahl    4.38 \n",
      "\n",
      "Year: 1979\n",
      "                     name  rating\n",
      "894  GÃ¶del, Escher, Bach    4.29 \n",
      "\n",
      "Year: 1980\n",
      "       name  rating\n",
      "700  Cosmos    4.35 \n",
      "\n",
      "Year: 1981\n",
      "                            name  rating\n",
      "1996  The Lord God Made Them All    4.36 \n",
      "\n",
      "Year: 1982\n",
      "                      name  rating\n",
      "1127  The Book of Disquiet    4.52 \n",
      "\n",
      "Year: 1983\n",
      "                     name  rating\n",
      "5262  Essays and Lectures    4.27 \n",
      "\n",
      "Year: 1984\n",
      "                                               name  rating\n",
      "2680  Ø§ÙØ¥Ø³ÙØ§Ù",
      " Ø¨ÙÙ Ø§ÙØ´Ø±Ù ÙØ§ÙØºØ±Ø¨    4.46 \n",
      "\n",
      "Year: 1985\n",
      "              name  rating\n",
      "110  Lonesome Dove    4.44 \n",
      "\n",
      "Year: 1986\n",
      "                                      name  rating\n",
      "4559  The Hitchhiker's Guide to the Galaxy     4.5 \n",
      "\n",
      "Year: 1987\n",
      "                   name  rating\n",
      "2233  Calvin and Hobbes    4.61 \n",
      "\n",
      "Year: 1988\n",
      "                                 name  rating\n",
      "2281  The Essential Calvin and Hobbes    4.64 \n",
      "\n",
      "Year: 1989\n",
      "            name  rating\n",
      "1334  The Hobbit    4.48 \n",
      "\n",
      "Year: 1990\n",
      "                                     name  rating\n",
      "1327  The Authoritative Calvin And Hobbes     4.7 \n",
      "\n",
      "Year: 1991\n",
      "              name  rating\n",
      "4101  Rain of Gold    4.49 \n",
      "\n",
      "Year: 1992\n",
      "                                     name  rating\n",
      "3207  The Indispensable Calvin and Hobbes    4.71 \n",
      "\n",
      "Year: 1993\n",
      "                          name  rating\n",
      "1993  Mark of the Lion Trilogy    4.75 \n",
      "\n",
      "Year: 1994\n",
      "                                                name  rating\n",
      "3375  The Complete Aubrey/Maturin Novels (5 Volumes)    4.69 \n",
      "\n",
      "Year: 1995\n",
      "                                              name  rating\n",
      "1500  The Calvin and Hobbes Tenth Anniversary Book    4.63 \n",
      "\n",
      "Year: 1996\n",
      "                   name  rating\n",
      "4944  Calvin and Hobbes    4.75 \n",
      "\n",
      "Year: 1997\n",
      "                                                   name  rating\n",
      "4371  The Song of the Lioness Quartet (Song of the L...    4.57 \n",
      "\n",
      "Year: 1998\n",
      "                                          name  rating\n",
      "1551  Harry Potter Boxset (Harry Potter, #1-7)    4.73 \n",
      "\n",
      "Year: 1999\n"
     ]
    },
    {
     "name": "stdout",
     "output_type": "stream",
     "text": [
      "                                                  name  rating\n",
      "1484  The Harry Potter Collection (Harry Potter, #1-4)    4.63 \n",
      "\n",
      "Year: 2000\n",
      "                        name  rating\n",
      "1385  Standing for Something    4.64 \n",
      "\n",
      "Year: 2001\n",
      "                                                  name  rating\n",
      "1340  A Storm of Swords (A Song of Ice and Fire, #3-1)     4.5 \n",
      "\n",
      "Year: 2002\n",
      "            name  rating\n",
      "3496  Way to Be!    4.62 \n",
      "\n",
      "Year: 2003\n",
      "                                  name  rating\n",
      "4629  The Complete Far Side, 1980-1994    4.66 \n",
      "\n",
      "Year: 2004\n",
      "                   name  rating\n",
      "4651  Ù¾ÛØ±Ù Ú©Ø§Ù",
      "Ù    4.58 \n",
      "\n",
      "Year: 2005\n",
      "                               name  rating\n",
      "249  The Complete Calvin and Hobbes     4.8 \n",
      "\n",
      "Year: 2006\n",
      "                                     name  rating\n",
      "5313  Warriors Boxed Set (Warriors, #1-3)    4.67 \n",
      "\n",
      "Year: 2007\n",
      "                 name  rating\n",
      "1853  ESV Study Bible    4.76 \n",
      "\n",
      "Year: 2008\n",
      "                              name  rating\n",
      "4084  The Absolute Sandman, Vol. 4    4.75 \n",
      "\n",
      "Year: 2009\n",
      "                          name  rating\n",
      "1781  Black Dagger Brotherhood    4.69 \n",
      "\n",
      "Year: 2010\n",
      "                     name  rating\n",
      "2920  The Years Distilled    4.93 \n",
      "\n",
      "Year: 2011\n",
      "                name  rating\n",
      "2909  Family Secrets     5.0 \n",
      "\n",
      "Year: 2012\n",
      "                                                   name  rating\n",
      "2145                   A Book About Absolutely Nothing.     5.0\n",
      "2903              Obscured Darkness (Family Secrets #2)     5.0\n",
      "4473                                    Patience's Love     5.0\n",
      "5692  Abstraction In Theory - Laws Of Physical Trans...     5.0 \n",
      "\n",
      "Year: 2013\n",
      "             name  rating\n",
      "3712  Blade Heart    4.93 \n",
      "\n",
      "Year: 2014\n",
      "                                      name  rating\n",
      "1718            An Elephant Is On My House     5.0\n",
      "5564  Untainted (Photographer Trilogy, #3)     5.0 \n",
      "\n"
     ]
    }
   ],
   "source": [
    "# Group the dataframe by 'year'\n",
    "grouped_by_year = df.groupby('year')\n",
    "\n",
    "# Create a dictionary to store the best-rated book(s) for each year\n",
    "best_rated_books_per_year = {}\n",
    "\n",
    "for year, group in grouped_by_year:\n",
    "    # Find the highest rating in the current year's group\n",
    "    highest_rating = group['rating'].max()\n",
    "\n",
    "    # Get all books in the current year's group that have the highest rating\n",
    "    best_books = group[group['rating'] == highest_rating]\n",
    "\n",
    "    # Add the result to the dictionary\n",
    "    best_rated_books_per_year[year] = best_books\n",
    "\n",
    "# Display the best-rated book(s) for each year\n",
    "for year, books in best_rated_books_per_year.items():\n",
    "    print(\"Year:\", year)\n",
    "    print(books[['name', 'rating']], \"\\n\")\n",
    "\n"
   ]
  }
 ],
 "metadata": {
  "anaconda-cloud": {},
  "kernelspec": {
   "display_name": "Python 3 (ipykernel)",
   "language": "python",
   "name": "python3"
  },
  "language_info": {
   "codemirror_mode": {
    "name": "ipython",
    "version": 3
   },
   "file_extension": ".py",
   "mimetype": "text/x-python",
   "name": "python",
   "nbconvert_exporter": "python",
   "pygments_lexer": "ipython3",
   "version": "3.11.5"
  }
 },
 "nbformat": 4,
 "nbformat_minor": 4
}
